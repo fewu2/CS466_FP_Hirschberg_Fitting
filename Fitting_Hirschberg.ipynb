{
 "cells": [
  {
   "cell_type": "markdown",
   "metadata": {},
   "source": [
    "# Space-Efficient Fitting Alignment Using the Hirschberg Algorithm\n",
    "\n",
    "The fitting alignment problem refers to finding the maximal global alignment between a string v and a longer reference string w, out of all possible substrings of string w. Space-efficient algorithms are designed to reduce the relative amount of memory needed to achieve a certain functionality. The goal of this final project is to implement an algorithm to determine optimal fitting alignment in linear space and polynomial time. Specifically, the algorithm will run in O(m) space and O(mn) time for input sequences of length m and n. This algorithm will feature the Hirschberg Algorithm described in class and drawn from  the paper: “A Linear Space Algorithm for Computing Maximal Common Subsequences”. The Hirschberg Algorithm requires an initial call containing the beginning position and the ending position. In a global alignment problem, these values are inherently known. However, this is not true for a fitting alignment problem, which is why we must define subroutines to find the beginning of the optimal fitting alignment and the ending of the optimal fitting alignment while preserving O(m) memory usage and O(mn) time complexity. This is done below."
   ]
  },
  {
   "cell_type": "code",
   "execution_count": 248,
   "metadata": {},
   "outputs": [],
   "source": [
    "import numpy as np\n",
    "\n",
    "def findEnd(short, reference, delta):\n",
    "    M = [[0 for j in range(2)] for i in range(len(short)+1)]\n",
    "    M = np.array(M)\n",
    "    \n",
    "    bestEnd = (len(short), len(reference))\n",
    "    maxScore = float('-inf')\n",
    "\n",
    "    for j in range(len(reference) + 1):\n",
    "        if j == 0:\n",
    "            M[0][0] = 0\n",
    "            for i in range(len(short) + 1):\n",
    "                if i > 0:\n",
    "                    M[i][0] = M[i-1][0] + delta[short[i-1]]['-']\n",
    "                    if i == len(short):\n",
    "                        if M[i][0] > maxScore:\n",
    "                            maxScore = M[i][0]\n",
    "                            bestEnd = (i, j)\n",
    "                            print(M[i][0])\n",
    "        else:\n",
    "            for i in range(len(short) + 1):\n",
    "                if i == 0:\n",
    "                    M[0][1] = 0\n",
    "                else:\n",
    "                    diag = M[i-1][0] + delta[short[i-1]][reference[j-1]]\n",
    "                    delete = M[i-1][1] + delta[short[i-1]]['-']\n",
    "                    insert = M[i][0] + delta[reference[j-1]]['-']\n",
    "                    M[i][1] = max(diag, delete, insert)\n",
    "                    if i == len(short):\n",
    "                        print(M[i][1])\n",
    "                        if M[i][1] > maxScore:\n",
    "                            maxScore = M[i][1]\n",
    "                            bestEnd = (i, j)\n",
    "                        M[:,0] = M[:,1]\n",
    "            \n",
    "    \n",
    "    return maxScore, bestEnd\n",
    "                "
   ]
  },
  {
   "cell_type": "code",
   "execution_count": 249,
   "metadata": {},
   "outputs": [
    {
     "name": "stdout",
     "output_type": "stream",
     "text": [
      "-6\n",
      "-4\n",
      "-2\n",
      "0\n",
      "0\n",
      "0\n",
      "0\n",
      "1\n",
      "1\n",
      "2\n",
      "1\n",
      "0\n",
      "0\n",
      "1\n",
      "1\n",
      "2\n",
      "1\n"
     ]
    },
    {
     "data": {
      "text/plain": [
       "(2, (6, 9))"
      ]
     },
     "execution_count": 249,
     "metadata": {},
     "output_type": "execute_result"
    }
   ],
   "source": [
    "keys = ['A', 'C', 'T', 'G', '-']\n",
    "delta = {}\n",
    "for i in range(len(keys)):\n",
    "    delta[keys[i]] = {k : v for (k,v) in zip(keys, [1 if keys[i] == keys[j]  else -1 for j in range(len(keys))])}\n",
    "\n",
    "score,fend = findEnd(\"TAGATA\", \"GTAGGCTTAAGGTTAT\", delta)\n",
    "score,fend"
   ]
  },
  {
   "cell_type": "code",
   "execution_count": 250,
   "metadata": {},
   "outputs": [],
   "source": [
    "def findStart(short, reference, delta, end):\n",
    "    M = [[0 for j in range(2)] for i in range(len(short)+1)]\n",
    "    M = np.array(M)\n",
    "    bestStart = (0, len(reference))\n",
    "    maxScore = float('-inf')\n",
    "    for i in range(len(short) + 1):\n",
    "        if i > 0:\n",
    "            M[i][0] = M[i-1][0] + delta[short[i-1]]['-']\n",
    "    for j in range(1,end[1]):\n",
    "        for i in range(1,end[0]):\n",
    "            if j == 0:\n",
    "                M[0][1] = 0\n",
    "            if i > 0:\n",
    "                k = end[1] - j\n",
    "                l = end[0] - i\n",
    "                diag = M[i-1][0] + delta[short[l+1]][reference[k+1]]\n",
    "                delete = M[i-1][1] + delta[short[l+1]]['-']\n",
    "                insert = M[i][0] + delta[reference[k+1]]['-']\n",
    "                M[i][1] = max(diag, delete, insert)\n",
    "                if i == len(short):\n",
    "                    if M[i][1] > maxScore:\n",
    "                        maxScore = M[i][1]\n",
    "                        bestStart = (i, j)\n",
    "                    M[:,0] = M[:,1]\n",
    "    \n",
    "    return bestStart"
   ]
  },
  {
   "cell_type": "code",
   "execution_count": 251,
   "metadata": {},
   "outputs": [],
   "source": [
    "keys = ['A', 'C', 'T', 'G', '-']\n",
    "delta = {}\n",
    "for i in range(len(keys)):\n",
    "    delta[keys[i]] = {k : v for (k,v) in zip(keys, [1 if keys[i] == keys[j]  else -1 for j in range(len(keys))])}\n",
    "\n",
    "# start = findStart(\"TAGATA\", \"GTAGGCTTAAGGTTA\", delta, fend)\n",
    "# start"
   ]
  },
  {
   "cell_type": "code",
   "execution_count": 252,
   "metadata": {},
   "outputs": [],
   "source": [
    "UP = (-1,0)\n",
    "LEFT = (0, -1)\n",
    "TOPLEFT = (-1, -1)\n",
    "ORIGIN = (0, 0)\n",
    "\n",
    "def traceback_fitting(v, w, M, init_j, pointers):\n",
    "    i, j = len(v), init_j\n",
    "    new_v = []\n",
    "    new_w = []\n",
    "    while True:\n",
    "        di, dj = pointers[i][j]\n",
    "        if (di,dj) == LEFT:\n",
    "            new_v.append('-')\n",
    "            new_w.append(w[j-1])\n",
    "        elif (di,dj) == UP:\n",
    "            new_v.append(v[i-1])\n",
    "            new_w.append('-')\n",
    "        elif (di,dj) == TOPLEFT:\n",
    "            new_v.append(v[i-1])\n",
    "            new_w.append(w[j-1])\n",
    "        i, j = i + di, j + dj\n",
    "        if (i <= 0):\n",
    "            break\n",
    "    return ''.join(new_v[::-1]) + '\\n'+''.join(new_w[::-1])\n",
    "\n",
    "def fitting_align(short, reference, delta):\n",
    "    \"\"\"\n",
    "    Returns the score of the maximum scoring alignment of short and all\n",
    "    substrings of reference.\n",
    "\n",
    "    :param: short the shorter of the two strings we are trying to align\n",
    "    :param: reference the longer string among whose substrings we are doing global alignment\n",
    "    :param: delta the scoring function for the alphabet of the two strings\n",
    "\n",
    "    :returns: a tuple (score, alignment)\n",
    "    \"\"\"\n",
    "    M = [[0 for j in range(len(reference)+1)] for i in range(len(short)+1)]\n",
    "    pointers = [[ORIGIN for j in range(len(reference)+1)] for i in range(len(short)+1)]\n",
    "    score = None\n",
    "    init_j = 0\n",
    "    # YOUR CODE HERE\n",
    "    for i in range(len(short) + 1):\n",
    "        if i > 0:\n",
    "            M[i][0] = M[i-1][0] + delta[short[i-1]]['-']\n",
    "    for j in range(len(reference) + 1):\n",
    "        if j > 0:\n",
    "            M[0][j] = 0\n",
    "    for i in range(len(short) + 1):\n",
    "        for j in range(len(reference) + 1):\n",
    "            if i > 0 and j > 0:\n",
    "                diag = M[i-1][j-1] + delta[short[i-1]][reference[j-1]]\n",
    "                delete = M[i-1][j] + delta[short[i-1]]['-']\n",
    "                insert = M[i][j-1] + delta[reference[j-1]]['-']\n",
    "                M[i][j] = max(diag, delete, insert)\n",
    "    \n",
    "    i = len(short)\n",
    "            \n",
    "    init_j = M[i].index(max(M[i]))\n",
    "    print(M[i])\n",
    "    score = M[i][init_j]\n",
    "    print(i, init_j)\n",
    "    \n",
    "    j = init_j\n",
    "    \n",
    "    if i == 0:\n",
    "        pointers [i][j] == ORIGIN\n",
    "    else:\n",
    "        while i > 0:\n",
    "            if j > 0:\n",
    "                diag = M[i-1][j-1] + delta[short[i-1]][reference[j-1]]\n",
    "                delete = M[i-1][j] + delta[short[i-1]]['-']\n",
    "                insert = M[i][j-1] + delta[reference[j-1]]['-']\n",
    "                if M[i][j] == diag:\n",
    "                    pointers[i][j] = TOPLEFT\n",
    "                    i = i - 1\n",
    "                    j = j - 1\n",
    "                elif M[i][j] == delete:\n",
    "                    pointers[i][j] = UP\n",
    "                    i = i - 1\n",
    "                else:\n",
    "                    pointers[i][j] = LEFT\n",
    "                    j = j -1\n",
    "            else:\n",
    "                pointers[i][j] = UP\n",
    "                i = i - 1\n",
    "    alignment = traceback_fitting(short,reference,M, init_j,pointers)\n",
    "    return score, alignment"
   ]
  },
  {
   "cell_type": "code",
   "execution_count": 253,
   "metadata": {},
   "outputs": [
    {
     "name": "stdout",
     "output_type": "stream",
     "text": [
      "[-6, -4, -2, 0, 0, 0, 0, 1, 1, 2, 1, 0, 0, 1, 1, 2, 1]\n",
      "6 9\n"
     ]
    },
    {
     "data": {
      "text/plain": [
       "(2, 'TA-G-ATA\\nTAGGCTTA')"
      ]
     },
     "execution_count": 253,
     "metadata": {},
     "output_type": "execute_result"
    }
   ],
   "source": [
    "keys = ['A', 'C', 'T', 'G', '-']\n",
    "delta = {}\n",
    "for i in range(len(keys)):\n",
    "    delta[keys[i]] = {k : v for (k,v) in zip(keys, [1 if keys[i] == keys[j]  else -1 for j in range(len(keys))])}\n",
    "\n",
    "fitting_align(\"TAGATA\", \"GTAGGCTTAAGGTTAT\", delta)"
   ]
  }
 ],
 "metadata": {
  "kernelspec": {
   "display_name": "Python 3",
   "language": "python",
   "name": "python3"
  },
  "language_info": {
   "codemirror_mode": {
    "name": "ipython",
    "version": 3
   },
   "file_extension": ".py",
   "mimetype": "text/x-python",
   "name": "python",
   "nbconvert_exporter": "python",
   "pygments_lexer": "ipython3",
   "version": "3.9.13"
  }
 },
 "nbformat": 4,
 "nbformat_minor": 2
}
