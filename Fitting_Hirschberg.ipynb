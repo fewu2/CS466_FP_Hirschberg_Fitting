{
 "cells": [
  {
   "cell_type": "markdown",
   "metadata": {},
   "source": [
    "# Space-Efficient Fitting Alignment Using the Hirschberg Algorithm\n",
    "\n",
    "The fitting alignment problem refers to finding the maximal global alignment between a string v and a longer reference string w, out of all possible substrings of string w. Space-efficient algorithms are designed to reduce the relative amount of memory needed to achieve a certain functionality. The goal of this final project is to implement an algorithm to determine optimal fitting alignment in linear space and polynomial time. Specifically, the algorithm will run in O(m) space and O(mn) time for input sequences of length m and n. This algorithm will feature the Hirschberg Algorithm described in class and drawn from  the paper: “A Linear Space Algorithm for Computing Maximal Common Subsequences”. The Hirschberg Algorithm requires an initial call containing the beginning position and the ending position. In a global alignment problem, these values are inherently known. However, this is not true for a fitting alignment problem, which is why we must define subroutines to find the beginning of the optimal fitting alignment and the ending of the optimal fitting alignment while preserving O(m) memory usage and O(mn) time complexity. This is done below."
   ]
  },
  {
   "cell_type": "code",
   "execution_count": 21,
   "metadata": {},
   "outputs": [],
   "source": [
    "UP = (-1,0)\n",
    "LEFT = (0, -1)\n",
    "TOPLEFT = (-1, -1)\n",
    "ORIGIN = (0, 0)\n",
    "\n",
    "def findEnd(short, reference, delta):\n",
    "    M = [[0 for j in range(2)] for i in range(len(short)+1)]\n",
    "    \n",
    "    bestEnd = (0, len(reference))\n",
    "    maxScore = float('-inf')\n",
    "    for i in range(len(short) + 1):\n",
    "        if i > 0:\n",
    "            M[i][0] = M[i-1][0] + delta[short[i-1]]['-']\n",
    "    for j in range(len(reference) + 1):\n",
    "        for i in range(len(short) + 1):\n",
    "            if j == 0:\n",
    "                M[0][1] = 0\n",
    "            if i > 0:\n",
    "                diag = M[i-1][0] + delta[short[i-1]][reference[j-1]]\n",
    "                delete = M[i-1][1] + delta[short[i-1]]['-']\n",
    "                insert = M[i][0] + delta[reference[j-1]]['-']\n",
    "                M[i][1] = max(diag, delete, insert)\n",
    "                if i == len(M)-1:\n",
    "                    if M[i][1] > maxScore:\n",
    "                        maxScore = M[i][1]\n",
    "                        bestEnd = (i, j)\n",
    "                    M[0][0] = M[0][1]\n",
    "    \n",
    "    return maxScore, bestEnd\n",
    "                \n",
    "            "
   ]
  },
  {
   "cell_type": "code",
   "execution_count": 22,
   "metadata": {},
   "outputs": [
    {
     "data": {
      "text/plain": [
       "(-4, (6, 0))"
      ]
     },
     "execution_count": 22,
     "metadata": {},
     "output_type": "execute_result"
    }
   ],
   "source": [
    "keys = ['A', 'C', 'T', 'G', '-']\n",
    "delta = {}\n",
    "for i in range(len(keys)):\n",
    "    delta[keys[i]] = {k : v for (k,v) in zip(keys, [1 if keys[i] == keys[j]  else -1 for j in range(len(keys))])}\n",
    "\n",
    "findEnd(\"TAGATA\", \"GTAGGCTTAAGGTTA\", delta)"
   ]
  }
 ],
 "metadata": {
  "kernelspec": {
   "display_name": "Python 3",
   "language": "python",
   "name": "python3"
  },
  "language_info": {
   "codemirror_mode": {
    "name": "ipython",
    "version": 3
   },
   "file_extension": ".py",
   "mimetype": "text/x-python",
   "name": "python",
   "nbconvert_exporter": "python",
   "pygments_lexer": "ipython3",
   "version": "3.9.13"
  }
 },
 "nbformat": 4,
 "nbformat_minor": 2
}
