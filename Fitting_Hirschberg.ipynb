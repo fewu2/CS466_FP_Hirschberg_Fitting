{
 "cells": [
  {
   "cell_type": "markdown",
   "metadata": {},
   "source": [
    "# Space-Efficient Fitting Alignment Using the Hirschberg Algorithm\n",
    "\n",
    "The fitting alignment problem refers to finding the maximal global alignment between a string v and a longer reference string w, out of all possible substrings of string w. Space-efficient algorithms are designed to reduce the relative amount of memory needed to achieve a certain functionality. The goal of this final project is to implement an algorithm to determine optimal fitting alignment in linear space and polynomial time. Specifically, the algorithm will run in O(m) space and O(mn) time for input sequences of length m and n. This algorithm will feature the Hirschberg Algorithm described in class and drawn from  the paper: “A Linear Space Algorithm for Computing Maximal Common Subsequences”. The Hirschberg Algorithm requires an initial call containing the beginning position and the ending position. In a global alignment problem, these values are inherently known. However, this is not true for a fitting alignment problem, which is why we must define subroutines to find the beginning of the optimal fitting alignment and the ending of the optimal fitting alignment while preserving O(m) memory usage and O(mn) time complexity. This is done below."
   ]
  },
  {
   "cell_type": "code",
   "execution_count": 88,
   "metadata": {},
   "outputs": [],
   "source": [
    "import numpy as np\n",
    "\n",
    "def findEnd(short, reference, delta):\n",
    "    M = [[0 for j in range(2)] for i in range(len(short)+1)]\n",
    "    M = np.array(M)\n",
    "    \n",
    "    bestEnd = (len(short), len(reference))\n",
    "    maxScore = float('-inf')\n",
    "    for i in range(len(short) + 1):\n",
    "        if i > 0:\n",
    "            M[i][0] = M[i-1][0] + delta[short[i-1]]['-']\n",
    "    for j in range(len(reference) + 1):\n",
    "        for i in range(len(short) + 1):\n",
    "            if j == 0:\n",
    "                M[0][1] = 0\n",
    "            if i > 0:\n",
    "                diag = M[i-1][0] + delta[short[i-1]][reference[j-1]]\n",
    "                delete = M[i-1][1] + delta[short[i-1]]['-']\n",
    "                insert = M[i][0] + delta[reference[j-1]]['-']\n",
    "                M[i][1] = max(diag, delete, insert)\n",
    "                if i == len(M)-1:\n",
    "                    if M[i][1] >= maxScore:\n",
    "                        maxScore = M[i][1]\n",
    "                        bestEnd = (i, j)\n",
    "                    M[:,0] = M[:,1]\n",
    "    \n",
    "    return maxScore, bestEnd\n",
    "                \n",
    "            "
   ]
  },
  {
   "cell_type": "code",
   "execution_count": 89,
   "metadata": {},
   "outputs": [
    {
     "data": {
      "text/plain": [
       "(2, (6, 15))"
      ]
     },
     "execution_count": 89,
     "metadata": {},
     "output_type": "execute_result"
    }
   ],
   "source": [
    "keys = ['A', 'C', 'T', 'G', '-']\n",
    "delta = {}\n",
    "for i in range(len(keys)):\n",
    "    delta[keys[i]] = {k : v for (k,v) in zip(keys, [1 if keys[i] == keys[j]  else -1 for j in range(len(keys))])}\n",
    "\n",
    "score,fend = findEnd(\"TAGATA\", \"GTAGGCTTAAGGTTA\", delta)\n",
    "score,fend"
   ]
  },
  {
   "cell_type": "code",
   "execution_count": 90,
   "metadata": {},
   "outputs": [],
   "source": [
    "def findStart(short, reference, delta, end):\n",
    "    M = [[0 for j in range(2)] for i in range(len(short)+1)]\n",
    "    M = np.array(M)\n",
    "    bestStart = (0, len(reference))\n",
    "    maxScore = float('-inf')\n",
    "    for i in range(len(short) + 1):\n",
    "        if i > 0:\n",
    "            M[i][0] = M[i-1][0] + delta[short[i-1]]['-']\n",
    "    for j in range(1,end[1]):\n",
    "        for i in range(1,end[0]):\n",
    "            if j == 0:\n",
    "                M[0][1] = 0\n",
    "            if i > 0:\n",
    "                k = end[1] - j\n",
    "                l = end[0] - i\n",
    "                diag = M[i-1][0] + delta[short[l+1]][reference[k+1]]\n",
    "                delete = M[i-1][1] + delta[short[l+1]]['-']\n",
    "                insert = M[i][0] + delta[reference[k+1]]['-']\n",
    "                M[i][1] = max(diag, delete, insert)\n",
    "                if i == 0:\n",
    "                    if M[i][1] > maxScore:\n",
    "                        maxScore = M[i][1]\n",
    "                        bestStart = (i, j)\n",
    "                    M[0][0] = M[0][1]\n",
    "    \n",
    "    return bestStart"
   ]
  },
  {
   "cell_type": "code",
   "execution_count": 91,
   "metadata": {},
   "outputs": [
    {
     "ename": "IndexError",
     "evalue": "string index out of range",
     "output_type": "error",
     "traceback": [
      "\u001b[1;31m---------------------------------------------------------------------------\u001b[0m",
      "\u001b[1;31mIndexError\u001b[0m                                Traceback (most recent call last)",
      "\u001b[1;32mc:\\Users\\17082\\Desktop\\CS 466\\Final Project\\Fitting_Hirschberg.ipynb Cell 5\u001b[0m line \u001b[0;36m6\n\u001b[0;32m      <a href='vscode-notebook-cell:/c%3A/Users/17082/Desktop/CS%20466/Final%20Project/Fitting_Hirschberg.ipynb#W6sZmlsZQ%3D%3D?line=2'>3</a>\u001b[0m \u001b[39mfor\u001b[39;00m i \u001b[39min\u001b[39;00m \u001b[39mrange\u001b[39m(\u001b[39mlen\u001b[39m(keys)):\n\u001b[0;32m      <a href='vscode-notebook-cell:/c%3A/Users/17082/Desktop/CS%20466/Final%20Project/Fitting_Hirschberg.ipynb#W6sZmlsZQ%3D%3D?line=3'>4</a>\u001b[0m     delta[keys[i]] \u001b[39m=\u001b[39m {k : v \u001b[39mfor\u001b[39;00m (k,v) \u001b[39min\u001b[39;00m \u001b[39mzip\u001b[39m(keys, [\u001b[39m1\u001b[39m \u001b[39mif\u001b[39;00m keys[i] \u001b[39m==\u001b[39m keys[j]  \u001b[39melse\u001b[39;00m \u001b[39m-\u001b[39m\u001b[39m1\u001b[39m \u001b[39mfor\u001b[39;00m j \u001b[39min\u001b[39;00m \u001b[39mrange\u001b[39m(\u001b[39mlen\u001b[39m(keys))])}\n\u001b[1;32m----> <a href='vscode-notebook-cell:/c%3A/Users/17082/Desktop/CS%20466/Final%20Project/Fitting_Hirschberg.ipynb#W6sZmlsZQ%3D%3D?line=5'>6</a>\u001b[0m start \u001b[39m=\u001b[39m findStart(\u001b[39m\"\u001b[39;49m\u001b[39mTAGATA\u001b[39;49m\u001b[39m\"\u001b[39;49m, \u001b[39m\"\u001b[39;49m\u001b[39mGTAGGCTTAAGGTTA\u001b[39;49m\u001b[39m\"\u001b[39;49m, delta, fend)\n\u001b[0;32m      <a href='vscode-notebook-cell:/c%3A/Users/17082/Desktop/CS%20466/Final%20Project/Fitting_Hirschberg.ipynb#W6sZmlsZQ%3D%3D?line=6'>7</a>\u001b[0m start\n",
      "\u001b[1;32mc:\\Users\\17082\\Desktop\\CS 466\\Final Project\\Fitting_Hirschberg.ipynb Cell 5\u001b[0m line \u001b[0;36m1\n\u001b[0;32m     <a href='vscode-notebook-cell:/c%3A/Users/17082/Desktop/CS%20466/Final%20Project/Fitting_Hirschberg.ipynb#W6sZmlsZQ%3D%3D?line=13'>14</a>\u001b[0m k \u001b[39m=\u001b[39m end[\u001b[39m1\u001b[39m] \u001b[39m-\u001b[39m j\n\u001b[0;32m     <a href='vscode-notebook-cell:/c%3A/Users/17082/Desktop/CS%20466/Final%20Project/Fitting_Hirschberg.ipynb#W6sZmlsZQ%3D%3D?line=14'>15</a>\u001b[0m l \u001b[39m=\u001b[39m end[\u001b[39m0\u001b[39m] \u001b[39m-\u001b[39m i\n\u001b[1;32m---> <a href='vscode-notebook-cell:/c%3A/Users/17082/Desktop/CS%20466/Final%20Project/Fitting_Hirschberg.ipynb#W6sZmlsZQ%3D%3D?line=15'>16</a>\u001b[0m diag \u001b[39m=\u001b[39m M[i\u001b[39m-\u001b[39m\u001b[39m1\u001b[39m][\u001b[39m0\u001b[39m] \u001b[39m+\u001b[39m delta[short[l\u001b[39m+\u001b[39;49m\u001b[39m1\u001b[39;49m]][reference[k\u001b[39m+\u001b[39m\u001b[39m1\u001b[39m]]\n\u001b[0;32m     <a href='vscode-notebook-cell:/c%3A/Users/17082/Desktop/CS%20466/Final%20Project/Fitting_Hirschberg.ipynb#W6sZmlsZQ%3D%3D?line=16'>17</a>\u001b[0m delete \u001b[39m=\u001b[39m M[i\u001b[39m-\u001b[39m\u001b[39m1\u001b[39m][\u001b[39m1\u001b[39m] \u001b[39m+\u001b[39m delta[short[l\u001b[39m+\u001b[39m\u001b[39m1\u001b[39m]][\u001b[39m'\u001b[39m\u001b[39m-\u001b[39m\u001b[39m'\u001b[39m]\n\u001b[0;32m     <a href='vscode-notebook-cell:/c%3A/Users/17082/Desktop/CS%20466/Final%20Project/Fitting_Hirschberg.ipynb#W6sZmlsZQ%3D%3D?line=17'>18</a>\u001b[0m insert \u001b[39m=\u001b[39m M[i][\u001b[39m0\u001b[39m] \u001b[39m+\u001b[39m delta[reference[k\u001b[39m+\u001b[39m\u001b[39m1\u001b[39m]][\u001b[39m'\u001b[39m\u001b[39m-\u001b[39m\u001b[39m'\u001b[39m]\n",
      "\u001b[1;31mIndexError\u001b[0m: string index out of range"
     ]
    }
   ],
   "source": [
    "keys = ['A', 'C', 'T', 'G', '-']\n",
    "delta = {}\n",
    "for i in range(len(keys)):\n",
    "    delta[keys[i]] = {k : v for (k,v) in zip(keys, [1 if keys[i] == keys[j]  else -1 for j in range(len(keys))])}\n",
    "\n",
    "start = findStart(\"TAGATA\", \"GTAGGCTTAAGGTTA\", delta, fend)\n",
    "start"
   ]
  }
 ],
 "metadata": {
  "kernelspec": {
   "display_name": "Python 3",
   "language": "python",
   "name": "python3"
  },
  "language_info": {
   "codemirror_mode": {
    "name": "ipython",
    "version": 3
   },
   "file_extension": ".py",
   "mimetype": "text/x-python",
   "name": "python",
   "nbconvert_exporter": "python",
   "pygments_lexer": "ipython3",
   "version": "3.9.13"
  }
 },
 "nbformat": 4,
 "nbformat_minor": 2
}
